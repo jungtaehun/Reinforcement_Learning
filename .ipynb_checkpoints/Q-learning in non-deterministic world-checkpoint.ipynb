{
 "cells": [
  {
   "cell_type": "markdown",
   "metadata": {},
   "source": [
    "# Q-learning in non-deterministic world\n",
    "-------------------------------"
   ]
  },
  {
   "cell_type": "markdown",
   "metadata": {},
   "source": [
    "### Windy Frozen Lake"
   ]
  },
  {
   "cell_type": "markdown",
   "metadata": {},
   "source": [
    "이 곳에서는 각 위치가 어떤 것인지 알 수 없는 것을 더해서 이동할 때 요청한 대로가 아닌 불규칙하게 움직인다. \n",
    "is_slippery = True"
   ]
  },
  {
   "cell_type": "markdown",
   "metadata": {},
   "source": [
    "### Stochastic(non-deterministic)"
   ]
  },
  {
   "cell_type": "markdown",
   "metadata": {},
   "source": [
    "일정하지 않다. 내가 원하는 대로 되지 않는 환경."
   ]
  },
  {
   "cell_type": "markdown",
   "metadata": {},
   "source": [
    "### 기존 Q-learning의 문제점\n",
    "결과가 좋지 않음.\n",
    "이유 : 경험이 제한되어있기 때문에. 예로 Q는 오른쪽으로 가고, 밑으로 미끄러져 성공했지만, 사용자가 Q의 말을 듣고 오른쪽으로 가도 위로, 왼쪽 등으로 미끄러져 실패할수도 있기 때문에."
   ]
  },
  {
   "cell_type": "markdown",
   "metadata": {},
   "source": [
    "### 해결 방법\n",
    "Q를 그대로 사용하지만, Q의 정보를 아주 조금만 받는다. 10%는 Q에, 나머지는 사용자가 원하는대로. 다시 얘기해 무조건 Q가 가라는 대로 가는 것이 아니라, 기존의 소신대로 (Q(state, action)) 가고 차근차근 Q의 조언을 업데이트해가는 것이 좋습니다."
   ]
  },
  {
   "cell_type": "markdown",
   "metadata": {},
   "source": [
    "기존 Q러닝 -> Q(state, action) = R + λmax(Q(new state)) (λ < 1)"
   ]
  },
  {
   "cell_type": "markdown",
   "metadata": {},
   "source": [
    "수정된 Q러닝 -> Q(state, action) = (1-a)Q(state, action) + a(R+λmax(Q(new state))\n",
    "\n",
    "(단, a = learning rate. 여기에서는 0.1로 설정)"
   ]
  },
  {
   "cell_type": "markdown",
   "metadata": {},
   "source": [
    "### 코드"
   ]
  },
  {
   "cell_type": "markdown",
   "metadata": {},
   "source": [
    "#### 라이브러리"
   ]
  },
  {
   "cell_type": "code",
   "execution_count": 1,
   "metadata": {
    "collapsed": true
   },
   "outputs": [],
   "source": [
    "import gym\n",
    "import numpy as np\n",
    "import matplotlib.pyplot as plt \n",
    "from gym.envs.registration import register\n",
    "import random as pr"
   ]
  },
  {
   "cell_type": "markdown",
   "metadata": {},
   "source": [
    "#### 환경 생성 및 파라미터 초기화"
   ]
  },
  {
   "cell_type": "code",
   "execution_count": 2,
   "metadata": {},
   "outputs": [
    {
     "name": "stderr",
     "output_type": "stream",
     "text": [
      "[2017-10-29 20:18:57,422] Making new env: FrozenLake-v0\n"
     ]
    }
   ],
   "source": [
    "env = gym.make('FrozenLake-v0')\n",
    "# Q-table 초기화\n",
    "Q = np.zeros([env.observation_space.n, env.action_space.n])\n",
    "\n",
    "# Learning Rate\n",
    "learning_rate = 0.85\n",
    "\n",
    "# discount factor\n",
    "dis = .99\n",
    "    \n",
    "# learning 횟수\n",
    "num_episodes = 2000\n",
    "\n",
    "# 학습 시 reward 저장\n",
    "rList = []"
   ]
  },
  {
   "cell_type": "markdown",
   "metadata": {},
   "source": [
    "#### Q러닝 알고리즘"
   ]
  },
  {
   "cell_type": "code",
   "execution_count": 3,
   "metadata": {
    "collapsed": true
   },
   "outputs": [],
   "source": [
    "for i in range(num_episodes):\n",
    "    \n",
    "    # env 리셋\n",
    "    state = env.reset()\n",
    "    rAll = 0\n",
    "    done = False\n",
    "    \n",
    "    #decaying E-greedy\n",
    "    e = 1./((i//100)+1)\n",
    "    \n",
    "    # Q-table Learning algorithm\n",
    "    while not done:\n",
    "        \n",
    "        # add Random noise\n",
    "        action = np.argmax(Q[state, :]+ np.random.randn(1, env.action_space.n)/(i + 1))\n",
    "        \n",
    "        # new_state, reward 업데이트 \n",
    "        new_state, reward, done, _ = env.step(action)\n",
    "        \n",
    "        # update Q-table\n",
    "        Q[state, action] = (1-learning_rate) * Q[state, action] + learning_rate*(reward + dis*np.max(Q[new_state, :]))\n",
    "        \n",
    "        rAll += reward\n",
    "        state = new_state\n",
    "\n",
    "    rList.append(rAll)"
   ]
  },
  {
   "cell_type": "markdown",
   "metadata": {},
   "source": [
    "#### 결과 출력"
   ]
  },
  {
   "cell_type": "code",
   "execution_count": 4,
   "metadata": {},
   "outputs": [
    {
     "name": "stdout",
     "output_type": "stream",
     "text": [
      "success rate:  0.4255\n",
      "Final Q-table values\n",
      "[[  7.10226180e-03   5.11286049e-01   5.72871811e-03   1.38062797e-02]\n",
      " [  3.01380880e-03   2.05451868e-03   3.42287704e-04   3.96312377e-01]\n",
      " [  3.74106686e-03   1.87292408e-03   3.03165359e-03   1.88127629e-01]\n",
      " [  4.67781869e-04   1.30861807e-02   2.96182985e-03   1.58728487e-01]\n",
      " [  7.42219730e-01   9.37735345e-04   3.11917219e-08   2.40143472e-07]\n",
      " [  0.00000000e+00   0.00000000e+00   0.00000000e+00   0.00000000e+00]\n",
      " [  5.54488405e-05   6.22853826e-05   2.03317972e-01   1.67373499e-07]\n",
      " [  0.00000000e+00   0.00000000e+00   0.00000000e+00   0.00000000e+00]\n",
      " [  6.77623146e-04   4.87262127e-05   5.01043774e-03   8.26975789e-01]\n",
      " [  1.85561891e-04   7.70405134e-01   1.13548792e-03   3.74445990e-04]\n",
      " [  8.36351865e-01   5.84443452e-04   1.43516242e-03   0.00000000e+00]\n",
      " [  0.00000000e+00   0.00000000e+00   0.00000000e+00   0.00000000e+00]\n",
      " [  0.00000000e+00   0.00000000e+00   0.00000000e+00   0.00000000e+00]\n",
      " [  0.00000000e+00   0.00000000e+00   9.51360102e-01   0.00000000e+00]\n",
      " [  0.00000000e+00   0.00000000e+00   9.76931634e-01   0.00000000e+00]\n",
      " [  0.00000000e+00   0.00000000e+00   0.00000000e+00   0.00000000e+00]]\n"
     ]
    },
    {
     "data": {
      "image/png": "[encoded data removed]",
      "text/plain": [
       "<matplotlib.figure.Figure at 0x7fa2b9dc3160>"
      ]
     },
     "metadata": {},
     "output_type": "display_data"
    }
   ],
   "source": [
    "print('success rate: ', str(sum(rList)/num_episodes))\n",
    "print('Final Q-table values')\n",
    "print(Q)\n",
    "plt.bar(range(len(rList)), rList, color = 'blue')\n",
    "plt.show()"
   ]
  },
  {
   "cell_type": "markdown",
   "metadata": {},
   "source": [
    "### Q-learning (Table) Demo 사이트\n",
    "http://computingkoreanlab.com/app/jAI/jQLearning/"
   ]
  },
  {
   "cell_type": "markdown",
   "metadata": {},
   "source": [
    "### 이러한 Q러닝이 적용되는 예시\n",
    "- 팩맨"
   ]
  },
  {
   "cell_type": "code",
   "execution_count": 5,
   "metadata": {},
   "outputs": [
    {
     "data": {
      "text/html": [
       "<iframe width=\"560\" height=\"315\" src=\"https://www.youtube.com/embed/vDqz7rV5Rd0\" frameborder=\"0\" allowfullscreen></iframe>"
      ],
      "text/plain": [
       "<IPython.core.display.HTML object>"
      ]
     },
     "execution_count": 5,
     "metadata": {},
     "output_type": "execute_result"
    }
   ],
   "source": [
    "from IPython.display import HTML\n",
    "HTML('<iframe width=\"560\" height=\"315\" src=\"https://www.youtube.com/embed/vDqz7rV5Rd0\" frameborder=\"0\" allowfullscreen></iframe>')"
   ]
  },
  {
   "cell_type": "markdown",
   "metadata": {},
   "source": [
    "- 2048"
   ]
  },
  {
   "cell_type": "code",
   "execution_count": 7,
   "metadata": {},
   "outputs": [
    {
     "data": {
      "text/html": [
       "<iframe width=\"560\" height=\"315\" src=\"https://www.youtube.com/embed/OKTD_VedHdA\" frameborder=\"0\" allowfullscreen></iframe>"
      ],
      "text/plain": [
       "<IPython.core.display.HTML object>"
      ]
     },
     "execution_count": 7,
     "metadata": {},
     "output_type": "execute_result"
    }
   ],
   "source": [
    "HTML('<iframe width=\"560\" height=\"315\" src=\"https://www.youtube.com/embed/OKTD_VedHdA\" frameborder=\"0\" allowfullscreen></iframe>')"
   ]
  },
  {
   "cell_type": "markdown",
   "metadata": {},
   "source": [
    "2048의 경우 Q러닝으로 되어있는 경우는 아직 못 본 것 같아서 한번 이걸로 강화학습해보는 것도 좋지 않을까 싶습니다."
   ]
  },
  {
   "cell_type": "markdown",
   "metadata": {
    "collapsed": true
   },
   "source": [
    "### Google Cloud를 이용해 머신 러닝 동작하기\n",
    "윈도우나 저성능 컴퓨터같이 머신러닝을 돌리기 힘든 경우를 위한 대체제.\n",
    "이번엔 300달러 크레딧으로 제공해서 1년 동안은 무료로 사용 가능."
   ]
  },
  {
   "attachments": {},
   "cell_type": "markdown",
   "metadata": {},
   "source": [
    "### 필요한 것\n",
    "- 구글 아이디\n",
    "- Gcloud SDK : \n",
    "https://dl.google.com/dl/cloudsdk/channels/rapid/GoogleCloudSDKInstaller.exe\n",
    "\n",
    "\n",
    "### Gcloud 설치\n",
    "![install](image/install.png)\n",
    "    설치 끝나고 마치기 전에 \"Start Google Cloud SDK Shell\" 과 \"Run 'gcloud init' to configure the Cloud SDK\"에 체크. 이렇게 하면 명령 프롬프트 창이 자동으로 켜짐.\n",
    "\n",
    "\n",
    "### 로그인\n",
    "![login](image/login.png)\n",
    "    \"Would you like to log in (Y/n)?\"가 나오면 Y를 입력해 구글 로그인을 한다.\n",
    "\n",
    "\n",
    "### 프로젝트 설정\n",
    "![project_select](image/project_select.png)\n",
    "    그 전에 설정한 project가 있다면 그 프로젝트에 해당하는 번호 입력, 프로젝트가 없다면 \"Create a new project\"에 해당하는 번호 입력. 그리고 Google Compute Engine settings 관련해서는 Y 클릭\n",
    "\n",
    "\n",
    "### 서버 지역 설정\n",
    "![region_setting](image/region_setting.png)\n",
    "    asia-east1-b에 해당하는 번호 입력\n",
    "\n",
    "### datalab 설치\n",
    "    프로젝트 설정까지 마쳤다면 이제 콘솔에 명령어를 입력할 수 있는 상태가 되는데, 여기에 datalab을 새로 설치해주어야 합니다. 명령어는 다음과 같습니다.\n",
    "    \n",
    "``` bash\n",
    "gcloud components install datalab \n",
    "```\n",
    "\n",
    "![datalab_setting](image/datalab_setting.png)\n",
    "다음과 같은 화면이 나오면 Y를 눌러 설치 동의\n",
    "\n",
    "\n",
    "### 인스턴스 새로 만들기\n",
    "    설치가 완료되고, 콘설에 명령어를 입력할 수 있는 상태가 되는데, 여기서 인스턴스를 새로 만들어주기 위한 코드는 다음과 같습니다.\n",
    "``` bash\n",
    "datalab create [인스턴스 이름]\n",
    "```\n",
    "\n",
    "\n",
    "### 노트북 파일 새로 만들기\n",
    "\n",
    "![datalab_main](image/datalab_main.png)\n",
    "    http://localhost:8081 들어가면 다음과 같은 화면이 나타납니다.\n",
    "    \n",
    "![datalab_addnotebook](image/datalab_addnotebook.png)\n",
    "    여기에서 notebook폴더 들어가서 \"+ notebook\"눌러 노트북 파일을 새로 만들어줍니다.\n",
    "\n",
    "### 기본 설정\n",
    "notebook 화면에 들어가게 되면, 먼저 Datalab에서 사용하는 기본 kernel은 python2 버전이므로 상단의 kernel 버전을 python3로 변경해줍니다.\n",
    "\n",
    "그 다음에 datalab의 경우는 tensorflow나 numpy등의 기본적인 머신러닝은 설치되어있지만 gym은 설치되어있지 않으므로 추가적으로 설치를 해주어야합니다. 설치방법은 회색 부분(코드를 입력하는 부분)에 다음과 같은 코드를 입력하면 됩니다.\n",
    "``` python\n",
    "!pip3 install gym\n",
    "```\n",
    "\n",
    "![datalab_install_gym](image/datalab_install_gym.png)\n",
    "\n",
    "입력을 하고 shift+enter를 하면 코드가 동작됩니다.\n",
    "\n",
    "\n",
    "### 코드 입력\n",
    "\n",
    "그 이후부터는 코드를 입력해서 동작시키면 됩니다. 위에 사용했던 코드를 그대로 동작한 결과는 다음과 같습니다.\n",
    "\n",
    "![result](image/result.png)"
   ]
  },
  {
   "cell_type": "markdown",
   "metadata": {},
   "source": [
    "### Datalab 사용하고 느낀 점\n",
    "초기 설정이 조금 귀찮긴 하지만, 이 툴의 목적은 협업을 더 쉽게 할 수 있기에 활용해보는 것도 좋을 것 같습니다."
   ]
  },
  {
   "cell_type": "code",
   "execution_count": null,
   "metadata": {
    "collapsed": true
   },
   "outputs": [],
   "source": []
  }
 ],
 "metadata": {
  "kernelspec": {
   "display_name": "Python 3",
   "language": "python",
   "name": "python3"
  },
  "language_info": {
   "codemirror_mode": {
    "name": "ipython",
    "version": 3
   },
   "file_extension": ".py",
   "mimetype": "text/x-python",
   "name": "python",
   "nbconvert_exporter": "python",
   "pygments_lexer": "ipython3",
   "version": "3.6.1"
  }
 },
 "nbformat": 4,
 "nbformat_minor": 2
}
